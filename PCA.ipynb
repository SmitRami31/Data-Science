{
 "cells": [
  {
   "cell_type": "code",
   "execution_count": 2,
   "metadata": {},
   "outputs": [],
   "source": [
    "import pandas as pd \n",
    "import numpy as np\n",
    "from sklearn.decomposition import PCA\n",
    "import matplotlib.pyplot as plt\n",
    "from sklearn.preprocessing import scale "
   ]
  },
  {
   "cell_type": "code",
   "execution_count": 12,
   "metadata": {},
   "outputs": [
    {
     "data": {
      "text/html": [
       "<div>\n",
       "<style scoped>\n",
       "    .dataframe tbody tr th:only-of-type {\n",
       "        vertical-align: middle;\n",
       "    }\n",
       "\n",
       "    .dataframe tbody tr th {\n",
       "        vertical-align: top;\n",
       "    }\n",
       "\n",
       "    .dataframe thead th {\n",
       "        text-align: right;\n",
       "    }\n",
       "</style>\n",
       "<table border=\"1\" class=\"dataframe\">\n",
       "  <thead>\n",
       "    <tr style=\"text-align: right;\">\n",
       "      <th></th>\n",
       "      <th>date</th>\n",
       "      <th>voucher_number</th>\n",
       "      <th>voucher_type</th>\n",
       "      <th>party_name</th>\n",
       "      <th>mailing_state</th>\n",
       "      <th>branch_name</th>\n",
       "      <th>mailing_pincode</th>\n",
       "      <th>item</th>\n",
       "      <th>rate</th>\n",
       "      <th>quantity</th>\n",
       "      <th>amount</th>\n",
       "    </tr>\n",
       "  </thead>\n",
       "  <tbody>\n",
       "    <tr>\n",
       "      <th>0</th>\n",
       "      <td>4/1/2020</td>\n",
       "      <td>1</td>\n",
       "      <td>Credit Note</td>\n",
       "      <td>AMBIKA OCTROI CLEARING AGENCY (Dhaisar-E)</td>\n",
       "      <td>Maharashtra</td>\n",
       "      <td>Andheri</td>\n",
       "      <td>400068</td>\n",
       "      <td>2 ETHYL HEXANOL</td>\n",
       "      <td>0.0</td>\n",
       "      <td>-10</td>\n",
       "      <td>0.0</td>\n",
       "    </tr>\n",
       "    <tr>\n",
       "      <th>1</th>\n",
       "      <td>4/1/2020</td>\n",
       "      <td>20200401-1</td>\n",
       "      <td>DLR SCHEM</td>\n",
       "      <td>AMBIKA OCTROI CLEARING AGENCY (Dhaisar-E)</td>\n",
       "      <td>Maharashtra</td>\n",
       "      <td>Andheri</td>\n",
       "      <td>400068</td>\n",
       "      <td>2 ETHYL HEXANOL</td>\n",
       "      <td>0.0</td>\n",
       "      <td>-10</td>\n",
       "      <td>0.0</td>\n",
       "    </tr>\n",
       "    <tr>\n",
       "      <th>2</th>\n",
       "      <td>6/8/2020</td>\n",
       "      <td>SRT/AND/0007</td>\n",
       "      <td>GST SALES RETURN</td>\n",
       "      <td>BHARAT BROTHERS (MASJID BUNDER)</td>\n",
       "      <td>Maharashtra</td>\n",
       "      <td>Andheri</td>\n",
       "      <td>400003</td>\n",
       "      <td>ITEM A</td>\n",
       "      <td>167.0</td>\n",
       "      <td>55</td>\n",
       "      <td>-9185.0</td>\n",
       "    </tr>\n",
       "    <tr>\n",
       "      <th>3</th>\n",
       "      <td>6/8/2020</td>\n",
       "      <td>SRT/AND/0007</td>\n",
       "      <td>GST SALES RETURN</td>\n",
       "      <td>BHARAT BROTHERS (MASJID BUNDER)</td>\n",
       "      <td>Maharashtra</td>\n",
       "      <td>Andheri</td>\n",
       "      <td>400003</td>\n",
       "      <td>CUTTER MACHINE</td>\n",
       "      <td>0.0</td>\n",
       "      <td>1</td>\n",
       "      <td>0.0</td>\n",
       "    </tr>\n",
       "    <tr>\n",
       "      <th>4</th>\n",
       "      <td>6/8/2020</td>\n",
       "      <td>SRT/AND/0003</td>\n",
       "      <td>GST SALES RETURN</td>\n",
       "      <td>Indian Ply-N-Laminates (Dadar-W)</td>\n",
       "      <td>Maharashtra</td>\n",
       "      <td>Andheri</td>\n",
       "      <td>400028</td>\n",
       "      <td>EURO XTRA 1KGX55PCH-CRB (XT1-CRB55-SIL20)</td>\n",
       "      <td>155.0</td>\n",
       "      <td>55</td>\n",
       "      <td>-8525.0</td>\n",
       "    </tr>\n",
       "  </tbody>\n",
       "</table>\n",
       "</div>"
      ],
      "text/plain": [
       "       date voucher_number      voucher_type  \\\n",
       "0  4/1/2020              1       Credit Note   \n",
       "1  4/1/2020     20200401-1         DLR SCHEM   \n",
       "2  6/8/2020   SRT/AND/0007  GST SALES RETURN   \n",
       "3  6/8/2020   SRT/AND/0007  GST SALES RETURN   \n",
       "4  6/8/2020   SRT/AND/0003  GST SALES RETURN   \n",
       "\n",
       "                                  party_name mailing_state branch_name  \\\n",
       "0  AMBIKA OCTROI CLEARING AGENCY (Dhaisar-E)   Maharashtra     Andheri   \n",
       "1  AMBIKA OCTROI CLEARING AGENCY (Dhaisar-E)   Maharashtra     Andheri   \n",
       "2            BHARAT BROTHERS (MASJID BUNDER)   Maharashtra     Andheri   \n",
       "3            BHARAT BROTHERS (MASJID BUNDER)   Maharashtra     Andheri   \n",
       "4           Indian Ply-N-Laminates (Dadar-W)   Maharashtra     Andheri   \n",
       "\n",
       "  mailing_pincode                                       item   rate  quantity  \\\n",
       "0          400068                            2 ETHYL HEXANOL    0.0       -10   \n",
       "1          400068                            2 ETHYL HEXANOL    0.0       -10   \n",
       "2          400003                                     ITEM A  167.0        55   \n",
       "3          400003                             CUTTER MACHINE    0.0         1   \n",
       "4          400028  EURO XTRA 1KGX55PCH-CRB (XT1-CRB55-SIL20)  155.0        55   \n",
       "\n",
       "   amount  \n",
       "0     0.0  \n",
       "1     0.0  \n",
       "2 -9185.0  \n",
       "3     0.0  \n",
       "4 -8525.0  "
      ]
     },
     "execution_count": 12,
     "metadata": {},
     "output_type": "execute_result"
    }
   ],
   "source": [
    "uni = pd.read_csv(\"C:/Users/User/Downloads/demo-data.csv\")\n",
    "uni.describe()\n",
    "uni.head()"
   ]
  },
  {
   "cell_type": "code",
   "execution_count": 13,
   "metadata": {},
   "outputs": [],
   "source": [
    "uni = uni.dropna()\n",
    "uni = uni.drop(['date','voucher_number','voucher_type','mailing_state','branch_name','mailing_pincode'],axis=1)"
   ]
  },
  {
   "cell_type": "code",
   "execution_count": 15,
   "metadata": {},
   "outputs": [
    {
     "data": {
      "text/html": [
       "<div>\n",
       "<style scoped>\n",
       "    .dataframe tbody tr th:only-of-type {\n",
       "        vertical-align: middle;\n",
       "    }\n",
       "\n",
       "    .dataframe tbody tr th {\n",
       "        vertical-align: top;\n",
       "    }\n",
       "\n",
       "    .dataframe thead th {\n",
       "        text-align: right;\n",
       "    }\n",
       "</style>\n",
       "<table border=\"1\" class=\"dataframe\">\n",
       "  <thead>\n",
       "    <tr style=\"text-align: right;\">\n",
       "      <th></th>\n",
       "      <th>party_name</th>\n",
       "      <th>rate</th>\n",
       "      <th>quantity</th>\n",
       "      <th>amount</th>\n",
       "    </tr>\n",
       "  </thead>\n",
       "  <tbody>\n",
       "    <tr>\n",
       "      <th>0</th>\n",
       "      <td>AMBIKA OCTROI CLEARING AGENCY (Dhaisar-E)</td>\n",
       "      <td>0.0</td>\n",
       "      <td>-10</td>\n",
       "      <td>0.0</td>\n",
       "    </tr>\n",
       "    <tr>\n",
       "      <th>1</th>\n",
       "      <td>AMBIKA OCTROI CLEARING AGENCY (Dhaisar-E)</td>\n",
       "      <td>0.0</td>\n",
       "      <td>-10</td>\n",
       "      <td>0.0</td>\n",
       "    </tr>\n",
       "    <tr>\n",
       "      <th>2</th>\n",
       "      <td>BHARAT BROTHERS (MASJID BUNDER)</td>\n",
       "      <td>167.0</td>\n",
       "      <td>55</td>\n",
       "      <td>-9185.0</td>\n",
       "    </tr>\n",
       "    <tr>\n",
       "      <th>3</th>\n",
       "      <td>BHARAT BROTHERS (MASJID BUNDER)</td>\n",
       "      <td>0.0</td>\n",
       "      <td>1</td>\n",
       "      <td>0.0</td>\n",
       "    </tr>\n",
       "    <tr>\n",
       "      <th>4</th>\n",
       "      <td>Indian Ply-N-Laminates (Dadar-W)</td>\n",
       "      <td>155.0</td>\n",
       "      <td>55</td>\n",
       "      <td>-8525.0</td>\n",
       "    </tr>\n",
       "  </tbody>\n",
       "</table>\n",
       "</div>"
      ],
      "text/plain": [
       "                                  party_name   rate  quantity  amount\n",
       "0  AMBIKA OCTROI CLEARING AGENCY (Dhaisar-E)    0.0       -10     0.0\n",
       "1  AMBIKA OCTROI CLEARING AGENCY (Dhaisar-E)    0.0       -10     0.0\n",
       "2            BHARAT BROTHERS (MASJID BUNDER)  167.0        55 -9185.0\n",
       "3            BHARAT BROTHERS (MASJID BUNDER)    0.0         1     0.0\n",
       "4           Indian Ply-N-Laminates (Dadar-W)  155.0        55 -8525.0"
      ]
     },
     "execution_count": 15,
     "metadata": {},
     "output_type": "execute_result"
    }
   ],
   "source": [
    "uni = uni.drop('item',axis=1)\n",
    "uni.head()"
   ]
  },
  {
   "cell_type": "code",
   "execution_count": 17,
   "metadata": {},
   "outputs": [
    {
     "data": {
      "text/plain": [
       "array([[ 0.00000e+00, -1.00000e+01,  0.00000e+00],\n",
       "       [ 0.00000e+00, -1.00000e+01,  0.00000e+00],\n",
       "       [ 1.67000e+02,  5.50000e+01, -9.18500e+03],\n",
       "       ...,\n",
       "       [ 1.63660e+02, -1.10000e+02,  1.80026e+04],\n",
       "       [ 0.00000e+00, -2.00000e+00,  0.00000e+00],\n",
       "       [ 1.67000e+02, -1.00000e+02,  1.67000e+04]])"
      ]
     },
     "execution_count": 17,
     "metadata": {},
     "output_type": "execute_result"
    }
   ],
   "source": [
    "# Considering only numerical data \n",
    "uni.data = uni.iloc[:,1:]\n",
    "uni.data.head()\n",
    "# Converting into numpy array\n",
    "uni = uni.data.values\n",
    "uni"
   ]
  },
  {
   "cell_type": "code",
   "execution_count": 58,
   "metadata": {},
   "outputs": [],
   "source": [
    "# Normalizing the numerical data \n",
    "uni_normal = scale(uni)"
   ]
  },
  {
   "cell_type": "code",
   "execution_count": 59,
   "metadata": {},
   "outputs": [
    {
     "data": {
      "text/plain": [
       "array([[-0.31760436, -0.02727029, -0.03797061],\n",
       "       [-0.31760436, -0.02727029, -0.03797061],\n",
       "       [ 0.05225898,  0.17687417, -0.25032212],\n",
       "       ...,\n",
       "       [ 0.04486171, -0.34133869,  0.37823834],\n",
       "       [-0.31760436, -0.00214482, -0.03797061],\n",
       "       [ 0.05225898, -0.30993185,  0.34812304]])"
      ]
     },
     "execution_count": 59,
     "metadata": {},
     "output_type": "execute_result"
    }
   ],
   "source": [
    "uni_normal"
   ]
  },
  {
   "cell_type": "code",
   "execution_count": 60,
   "metadata": {},
   "outputs": [],
   "source": [
    "pca = PCA()\n",
    "pca_values = pca.fit_transform(uni_normal)"
   ]
  },
  {
   "cell_type": "code",
   "execution_count": 61,
   "metadata": {},
   "outputs": [
    {
     "data": {
      "text/plain": [
       "array([[-0.01511643, -0.31828744, -0.03902006],\n",
       "       [-0.01511643, -0.31828744, -0.03902006],\n",
       "       [-0.30076139,  0.05824105, -0.05317145],\n",
       "       ...,\n",
       "       [ 0.50974633,  0.03334183,  0.02521733],\n",
       "       [-0.0328731 , -0.31746834, -0.02126283],\n",
       "       [ 0.46643173,  0.04178835,  0.02595337]])"
      ]
     },
     "execution_count": 61,
     "metadata": {},
     "output_type": "execute_result"
    }
   ],
   "source": [
    "pca_values"
   ]
  },
  {
   "cell_type": "code",
   "execution_count": 62,
   "metadata": {},
   "outputs": [],
   "source": [
    "pca = PCA(n_components = 3)\n",
    "pca_values = pca.fit_transform(uni_normal)"
   ]
  },
  {
   "cell_type": "code",
   "execution_count": 63,
   "metadata": {},
   "outputs": [
    {
     "data": {
      "text/plain": [
       "array([6.66066848e-01, 3.33312176e-01, 6.20976092e-04])"
      ]
     },
     "execution_count": 63,
     "metadata": {},
     "output_type": "execute_result"
    }
   ],
   "source": [
    "# The amount of variance that each PCA explains is \n",
    "var = pca.explained_variance_ratio_\n",
    "var"
   ]
  },
  {
   "cell_type": "code",
   "execution_count": 64,
   "metadata": {},
   "outputs": [
    {
     "data": {
      "text/plain": [
       "array([ 66.61,  99.94, 100.  ])"
      ]
     },
     "execution_count": 64,
     "metadata": {},
     "output_type": "execute_result"
    }
   ],
   "source": [
    "# Cumulative variance \n",
    "var1 = np.cumsum(np.round(var,decimals = 4)*100)\n",
    "var1"
   ]
  },
  {
   "cell_type": "code",
   "execution_count": 65,
   "metadata": {},
   "outputs": [
    {
     "data": {
      "text/plain": [
       "array([[ 2.37403598e-02, -7.06719723e-01,  7.07095205e-01],\n",
       "       [ 9.99467997e-01,  3.26002303e-02, -9.73707862e-04],\n",
       "       [-2.23633280e-02,  7.06742144e-01,  7.07117687e-01]])"
      ]
     },
     "execution_count": 65,
     "metadata": {},
     "output_type": "execute_result"
    }
   ],
   "source": [
    "pca.components_"
   ]
  },
  {
   "cell_type": "code",
   "execution_count": 66,
   "metadata": {},
   "outputs": [
    {
     "data": {
      "text/plain": [
       "[<matplotlib.lines.Line2D at 0x20aaa3edca0>]"
      ]
     },
     "execution_count": 66,
     "metadata": {},
     "output_type": "execute_result"
    },
    {
     "data": {
      "image/png": "[encoded data removed]",
      "text/plain": [
       "<Figure size 640x480 with 1 Axes>"
      ]
     },
     "metadata": {},
     "output_type": "display_data"
    }
   ],
   "source": [
    "# Variance plot for PCA components obtained \n",
    "plt.plot(var1,color=\"red\")"
   ]
  },
  {
   "cell_type": "code",
   "execution_count": 67,
   "metadata": {},
   "outputs": [
    {
     "data": {
      "text/plain": [
       "array([[-0.01511643],\n",
       "       [-0.01511643],\n",
       "       [-0.30076139],\n",
       "       ...,\n",
       "       [ 0.50974633],\n",
       "       [-0.0328731 ],\n",
       "       [ 0.46643173]])"
      ]
     },
     "execution_count": 67,
     "metadata": {},
     "output_type": "execute_result"
    }
   ],
   "source": [
    "pca_values[:,0:1]"
   ]
  },
  {
   "cell_type": "code",
   "execution_count": 68,
   "metadata": {},
   "outputs": [
    {
     "data": {
      "text/plain": [
       "<matplotlib.collections.PathCollection at 0x20aaa6c7350>"
      ]
     },
     "execution_count": 68,
     "metadata": {},
     "output_type": "execute_result"
    },
    {
     "data": {
      "image/png": "[encoded data removed]",
      "text/plain": [
       "<Figure size 640x480 with 1 Axes>"
      ]
     },
     "metadata": {},
     "output_type": "display_data"
    }
   ],
   "source": [
    "# plot between PCA1 and PCA2 \n",
    "x = pca_values[:,0:1]\n",
    "y = pca_values[:,1:2]\n",
    "#z = pca_values[:,2:3]\n",
    "plt.scatter(x,y)"
   ]
  },
  {
   "cell_type": "code",
   "execution_count": null,
   "metadata": {},
   "outputs": [],
   "source": [
    "finalDf = pd.concat([pd.DataFrame(pca_values[:,0:2],columns=['pc1','pc2']), uni[['perty_name']]], axis = 1,)\n"
   ]
  },
  {
   "cell_type": "code",
   "execution_count": 72,
   "metadata": {},
   "outputs": [],
   "source": [
    "import seaborn as sns\n",
    "sns.scatterplot(data=uni,x='pc1',y='pc2',hue='party_name')"
   ]
  },
  {
   "cell_type": "code",
   "execution_count": null,
   "metadata": {},
   "outputs": [],
   "source": []
  }
 ],
 "metadata": {
  "kernelspec": {
   "display_name": "base",
   "language": "python",
   "name": "python3"
  },
  "language_info": {
   "codemirror_mode": {
    "name": "ipython",
    "version": 3
   },
   "file_extension": ".py",
   "mimetype": "text/x-python",
   "name": "python",
   "nbconvert_exporter": "python",
   "pygments_lexer": "ipython3",
   "version": "3.12.7"
  }
 },
 "nbformat": 4,
 "nbformat_minor": 2
}
